{
  "nbformat": 4,
  "nbformat_minor": 0,
  "metadata": {
    "colab": {
      "provenance": [],
      "authorship_tag": "ABX9TyN4eW8K+LiQQSnsgqLxU/So",
      "include_colab_link": true
    },
    "kernelspec": {
      "name": "python3",
      "display_name": "Python 3"
    },
    "language_info": {
      "name": "python"
    }
  },
  "cells": [
    {
      "cell_type": "markdown",
      "metadata": {
        "id": "view-in-github",
        "colab_type": "text"
      },
      "source": [
        "<a href=\"https://colab.research.google.com/github/dst3v3n/Modelos-AI/blob/main/MML_LogR_HACKATHON.ipynb\" target=\"_parent\"><img src=\"https://colab.research.google.com/assets/colab-badge.svg\" alt=\"Open In Colab\"/></a>"
      ]
    },
    {
      "cell_type": "markdown",
      "source": [
        "# Modelo de regresion logistica"
      ],
      "metadata": {
        "id": "VD9zO-nekPX0"
      }
    },
    {
      "cell_type": "code",
      "execution_count": 1,
      "metadata": {
        "id": "4UOa3R6HX3q5"
      },
      "outputs": [],
      "source": [
        "import pandas as pd\n",
        "import seaborn as sns\n",
        "import matplotlib.pyplot as plt\n",
        "import numpy as np\n",
        "from sklearn.model_selection import train_test_split\n",
        "from sklearn.preprocessing import StandardScaler, LabelEncoder\n",
        "from sklearn.linear_model import LogisticRegression\n",
        "from sklearn.metrics import classification_report, confusion_matrix\n",
        "\n",
        "# Configuración para visualización\n",
        "sns.set(style=\"whitegrid\")"
      ]
    },
    {
      "cell_type": "code",
      "source": [
        "df = pd.read_csv(r'datos_limpioscsv.csv')\n",
        "\n",
        "# Mostrar las primeras filas para verificar\n",
        "df.head()"
      ],
      "metadata": {
        "colab": {
          "base_uri": "https://localhost:8080/",
          "height": 226
        },
        "id": "PyyVot3cX_dt",
        "outputId": "43192d27-b401-4633-b66b-fd95087db8c6"
      },
      "execution_count": 2,
      "outputs": [
        {
          "output_type": "execute_result",
          "data": {
            "text/plain": [
              "   nacimiento  genero  industria  sector  nucleo  em_fom_remoto  \\\n",
              "0        1976       1         13      31       1              2   \n",
              "1        1971       1          5      31       2              1   \n",
              "2        1974       1          8      25       1              2   \n",
              "3        1985       1         11      37       1              1   \n",
              "4        1992       2          2       2       2              2   \n",
              "\n",
              "   em_fom_camb_remoto  t_dez_remoto  t_casa  t_familia  t_remoto_3meses  \\\n",
              "0                   2           0.0     1.0        7.0              0.5   \n",
              "1                   1           0.0     4.0        4.0              0.1   \n",
              "2                   2           0.0     3.0        4.0              1.0   \n",
              "3                   1           2.0     4.0        2.0              0.5   \n",
              "4                   2           0.5     0.5        5.0              1.0   \n",
              "\n",
              "   t_pref_remoto_3meses  h_trabajo_remoto  \n",
              "0                   0.8               8.0  \n",
              "1                   0.5              10.0  \n",
              "2                   1.0               9.0  \n",
              "3                   0.4               8.0  \n",
              "4                   1.0               9.0  "
            ],
            "text/html": [
              "\n",
              "  <div id=\"df-65c6c7b7-15f0-451c-b705-40e7a766b6f9\" class=\"colab-df-container\">\n",
              "    <div>\n",
              "<style scoped>\n",
              "    .dataframe tbody tr th:only-of-type {\n",
              "        vertical-align: middle;\n",
              "    }\n",
              "\n",
              "    .dataframe tbody tr th {\n",
              "        vertical-align: top;\n",
              "    }\n",
              "\n",
              "    .dataframe thead th {\n",
              "        text-align: right;\n",
              "    }\n",
              "</style>\n",
              "<table border=\"1\" class=\"dataframe\">\n",
              "  <thead>\n",
              "    <tr style=\"text-align: right;\">\n",
              "      <th></th>\n",
              "      <th>nacimiento</th>\n",
              "      <th>genero</th>\n",
              "      <th>industria</th>\n",
              "      <th>sector</th>\n",
              "      <th>nucleo</th>\n",
              "      <th>em_fom_remoto</th>\n",
              "      <th>em_fom_camb_remoto</th>\n",
              "      <th>t_dez_remoto</th>\n",
              "      <th>t_casa</th>\n",
              "      <th>t_familia</th>\n",
              "      <th>t_remoto_3meses</th>\n",
              "      <th>t_pref_remoto_3meses</th>\n",
              "      <th>h_trabajo_remoto</th>\n",
              "    </tr>\n",
              "  </thead>\n",
              "  <tbody>\n",
              "    <tr>\n",
              "      <th>0</th>\n",
              "      <td>1976</td>\n",
              "      <td>1</td>\n",
              "      <td>13</td>\n",
              "      <td>31</td>\n",
              "      <td>1</td>\n",
              "      <td>2</td>\n",
              "      <td>2</td>\n",
              "      <td>0.0</td>\n",
              "      <td>1.0</td>\n",
              "      <td>7.0</td>\n",
              "      <td>0.5</td>\n",
              "      <td>0.8</td>\n",
              "      <td>8.0</td>\n",
              "    </tr>\n",
              "    <tr>\n",
              "      <th>1</th>\n",
              "      <td>1971</td>\n",
              "      <td>1</td>\n",
              "      <td>5</td>\n",
              "      <td>31</td>\n",
              "      <td>2</td>\n",
              "      <td>1</td>\n",
              "      <td>1</td>\n",
              "      <td>0.0</td>\n",
              "      <td>4.0</td>\n",
              "      <td>4.0</td>\n",
              "      <td>0.1</td>\n",
              "      <td>0.5</td>\n",
              "      <td>10.0</td>\n",
              "    </tr>\n",
              "    <tr>\n",
              "      <th>2</th>\n",
              "      <td>1974</td>\n",
              "      <td>1</td>\n",
              "      <td>8</td>\n",
              "      <td>25</td>\n",
              "      <td>1</td>\n",
              "      <td>2</td>\n",
              "      <td>2</td>\n",
              "      <td>0.0</td>\n",
              "      <td>3.0</td>\n",
              "      <td>4.0</td>\n",
              "      <td>1.0</td>\n",
              "      <td>1.0</td>\n",
              "      <td>9.0</td>\n",
              "    </tr>\n",
              "    <tr>\n",
              "      <th>3</th>\n",
              "      <td>1985</td>\n",
              "      <td>1</td>\n",
              "      <td>11</td>\n",
              "      <td>37</td>\n",
              "      <td>1</td>\n",
              "      <td>1</td>\n",
              "      <td>1</td>\n",
              "      <td>2.0</td>\n",
              "      <td>4.0</td>\n",
              "      <td>2.0</td>\n",
              "      <td>0.5</td>\n",
              "      <td>0.4</td>\n",
              "      <td>8.0</td>\n",
              "    </tr>\n",
              "    <tr>\n",
              "      <th>4</th>\n",
              "      <td>1992</td>\n",
              "      <td>2</td>\n",
              "      <td>2</td>\n",
              "      <td>2</td>\n",
              "      <td>2</td>\n",
              "      <td>2</td>\n",
              "      <td>2</td>\n",
              "      <td>0.5</td>\n",
              "      <td>0.5</td>\n",
              "      <td>5.0</td>\n",
              "      <td>1.0</td>\n",
              "      <td>1.0</td>\n",
              "      <td>9.0</td>\n",
              "    </tr>\n",
              "  </tbody>\n",
              "</table>\n",
              "</div>\n",
              "    <div class=\"colab-df-buttons\">\n",
              "\n",
              "  <div class=\"colab-df-container\">\n",
              "    <button class=\"colab-df-convert\" onclick=\"convertToInteractive('df-65c6c7b7-15f0-451c-b705-40e7a766b6f9')\"\n",
              "            title=\"Convert this dataframe to an interactive table.\"\n",
              "            style=\"display:none;\">\n",
              "\n",
              "  <svg xmlns=\"http://www.w3.org/2000/svg\" height=\"24px\" viewBox=\"0 -960 960 960\">\n",
              "    <path d=\"M120-120v-720h720v720H120Zm60-500h600v-160H180v160Zm220 220h160v-160H400v160Zm0 220h160v-160H400v160ZM180-400h160v-160H180v160Zm440 0h160v-160H620v160ZM180-180h160v-160H180v160Zm440 0h160v-160H620v160Z\"/>\n",
              "  </svg>\n",
              "    </button>\n",
              "\n",
              "  <style>\n",
              "    .colab-df-container {\n",
              "      display:flex;\n",
              "      gap: 12px;\n",
              "    }\n",
              "\n",
              "    .colab-df-convert {\n",
              "      background-color: #E8F0FE;\n",
              "      border: none;\n",
              "      border-radius: 50%;\n",
              "      cursor: pointer;\n",
              "      display: none;\n",
              "      fill: #1967D2;\n",
              "      height: 32px;\n",
              "      padding: 0 0 0 0;\n",
              "      width: 32px;\n",
              "    }\n",
              "\n",
              "    .colab-df-convert:hover {\n",
              "      background-color: #E2EBFA;\n",
              "      box-shadow: 0px 1px 2px rgba(60, 64, 67, 0.3), 0px 1px 3px 1px rgba(60, 64, 67, 0.15);\n",
              "      fill: #174EA6;\n",
              "    }\n",
              "\n",
              "    .colab-df-buttons div {\n",
              "      margin-bottom: 4px;\n",
              "    }\n",
              "\n",
              "    [theme=dark] .colab-df-convert {\n",
              "      background-color: #3B4455;\n",
              "      fill: #D2E3FC;\n",
              "    }\n",
              "\n",
              "    [theme=dark] .colab-df-convert:hover {\n",
              "      background-color: #434B5C;\n",
              "      box-shadow: 0px 1px 3px 1px rgba(0, 0, 0, 0.15);\n",
              "      filter: drop-shadow(0px 1px 2px rgba(0, 0, 0, 0.3));\n",
              "      fill: #FFFFFF;\n",
              "    }\n",
              "  </style>\n",
              "\n",
              "    <script>\n",
              "      const buttonEl =\n",
              "        document.querySelector('#df-65c6c7b7-15f0-451c-b705-40e7a766b6f9 button.colab-df-convert');\n",
              "      buttonEl.style.display =\n",
              "        google.colab.kernel.accessAllowed ? 'block' : 'none';\n",
              "\n",
              "      async function convertToInteractive(key) {\n",
              "        const element = document.querySelector('#df-65c6c7b7-15f0-451c-b705-40e7a766b6f9');\n",
              "        const dataTable =\n",
              "          await google.colab.kernel.invokeFunction('convertToInteractive',\n",
              "                                                    [key], {});\n",
              "        if (!dataTable) return;\n",
              "\n",
              "        const docLinkHtml = 'Like what you see? Visit the ' +\n",
              "          '<a target=\"_blank\" href=https://colab.research.google.com/notebooks/data_table.ipynb>data table notebook</a>'\n",
              "          + ' to learn more about interactive tables.';\n",
              "        element.innerHTML = '';\n",
              "        dataTable['output_type'] = 'display_data';\n",
              "        await google.colab.output.renderOutput(dataTable, element);\n",
              "        const docLink = document.createElement('div');\n",
              "        docLink.innerHTML = docLinkHtml;\n",
              "        element.appendChild(docLink);\n",
              "      }\n",
              "    </script>\n",
              "  </div>\n",
              "\n",
              "\n",
              "<div id=\"df-b5ef5cab-ec24-4392-9ebf-0434bf8f1844\">\n",
              "  <button class=\"colab-df-quickchart\" onclick=\"quickchart('df-b5ef5cab-ec24-4392-9ebf-0434bf8f1844')\"\n",
              "            title=\"Suggest charts\"\n",
              "            style=\"display:none;\">\n",
              "\n",
              "<svg xmlns=\"http://www.w3.org/2000/svg\" height=\"24px\"viewBox=\"0 0 24 24\"\n",
              "     width=\"24px\">\n",
              "    <g>\n",
              "        <path d=\"M19 3H5c-1.1 0-2 .9-2 2v14c0 1.1.9 2 2 2h14c1.1 0 2-.9 2-2V5c0-1.1-.9-2-2-2zM9 17H7v-7h2v7zm4 0h-2V7h2v10zm4 0h-2v-4h2v4z\"/>\n",
              "    </g>\n",
              "</svg>\n",
              "  </button>\n",
              "\n",
              "<style>\n",
              "  .colab-df-quickchart {\n",
              "      --bg-color: #E8F0FE;\n",
              "      --fill-color: #1967D2;\n",
              "      --hover-bg-color: #E2EBFA;\n",
              "      --hover-fill-color: #174EA6;\n",
              "      --disabled-fill-color: #AAA;\n",
              "      --disabled-bg-color: #DDD;\n",
              "  }\n",
              "\n",
              "  [theme=dark] .colab-df-quickchart {\n",
              "      --bg-color: #3B4455;\n",
              "      --fill-color: #D2E3FC;\n",
              "      --hover-bg-color: #434B5C;\n",
              "      --hover-fill-color: #FFFFFF;\n",
              "      --disabled-bg-color: #3B4455;\n",
              "      --disabled-fill-color: #666;\n",
              "  }\n",
              "\n",
              "  .colab-df-quickchart {\n",
              "    background-color: var(--bg-color);\n",
              "    border: none;\n",
              "    border-radius: 50%;\n",
              "    cursor: pointer;\n",
              "    display: none;\n",
              "    fill: var(--fill-color);\n",
              "    height: 32px;\n",
              "    padding: 0;\n",
              "    width: 32px;\n",
              "  }\n",
              "\n",
              "  .colab-df-quickchart:hover {\n",
              "    background-color: var(--hover-bg-color);\n",
              "    box-shadow: 0 1px 2px rgba(60, 64, 67, 0.3), 0 1px 3px 1px rgba(60, 64, 67, 0.15);\n",
              "    fill: var(--button-hover-fill-color);\n",
              "  }\n",
              "\n",
              "  .colab-df-quickchart-complete:disabled,\n",
              "  .colab-df-quickchart-complete:disabled:hover {\n",
              "    background-color: var(--disabled-bg-color);\n",
              "    fill: var(--disabled-fill-color);\n",
              "    box-shadow: none;\n",
              "  }\n",
              "\n",
              "  .colab-df-spinner {\n",
              "    border: 2px solid var(--fill-color);\n",
              "    border-color: transparent;\n",
              "    border-bottom-color: var(--fill-color);\n",
              "    animation:\n",
              "      spin 1s steps(1) infinite;\n",
              "  }\n",
              "\n",
              "  @keyframes spin {\n",
              "    0% {\n",
              "      border-color: transparent;\n",
              "      border-bottom-color: var(--fill-color);\n",
              "      border-left-color: var(--fill-color);\n",
              "    }\n",
              "    20% {\n",
              "      border-color: transparent;\n",
              "      border-left-color: var(--fill-color);\n",
              "      border-top-color: var(--fill-color);\n",
              "    }\n",
              "    30% {\n",
              "      border-color: transparent;\n",
              "      border-left-color: var(--fill-color);\n",
              "      border-top-color: var(--fill-color);\n",
              "      border-right-color: var(--fill-color);\n",
              "    }\n",
              "    40% {\n",
              "      border-color: transparent;\n",
              "      border-right-color: var(--fill-color);\n",
              "      border-top-color: var(--fill-color);\n",
              "    }\n",
              "    60% {\n",
              "      border-color: transparent;\n",
              "      border-right-color: var(--fill-color);\n",
              "    }\n",
              "    80% {\n",
              "      border-color: transparent;\n",
              "      border-right-color: var(--fill-color);\n",
              "      border-bottom-color: var(--fill-color);\n",
              "    }\n",
              "    90% {\n",
              "      border-color: transparent;\n",
              "      border-bottom-color: var(--fill-color);\n",
              "    }\n",
              "  }\n",
              "</style>\n",
              "\n",
              "  <script>\n",
              "    async function quickchart(key) {\n",
              "      const quickchartButtonEl =\n",
              "        document.querySelector('#' + key + ' button');\n",
              "      quickchartButtonEl.disabled = true;  // To prevent multiple clicks.\n",
              "      quickchartButtonEl.classList.add('colab-df-spinner');\n",
              "      try {\n",
              "        const charts = await google.colab.kernel.invokeFunction(\n",
              "            'suggestCharts', [key], {});\n",
              "      } catch (error) {\n",
              "        console.error('Error during call to suggestCharts:', error);\n",
              "      }\n",
              "      quickchartButtonEl.classList.remove('colab-df-spinner');\n",
              "      quickchartButtonEl.classList.add('colab-df-quickchart-complete');\n",
              "    }\n",
              "    (() => {\n",
              "      let quickchartButtonEl =\n",
              "        document.querySelector('#df-b5ef5cab-ec24-4392-9ebf-0434bf8f1844 button');\n",
              "      quickchartButtonEl.style.display =\n",
              "        google.colab.kernel.accessAllowed ? 'block' : 'none';\n",
              "    })();\n",
              "  </script>\n",
              "</div>\n",
              "\n",
              "    </div>\n",
              "  </div>\n"
            ],
            "application/vnd.google.colaboratory.intrinsic+json": {
              "type": "dataframe",
              "variable_name": "df",
              "summary": "{\n  \"name\": \"df\",\n  \"rows\": 3024,\n  \"fields\": [\n    {\n      \"column\": \"nacimiento\",\n      \"properties\": {\n        \"dtype\": \"number\",\n        \"std\": 11,\n        \"min\": 1957,\n        \"max\": 2002,\n        \"num_unique_values\": 46,\n        \"samples\": [\n          1969,\n          1957,\n          1973\n        ],\n        \"semantic_type\": \"\",\n        \"description\": \"\"\n      }\n    },\n    {\n      \"column\": \"genero\",\n      \"properties\": {\n        \"dtype\": \"number\",\n        \"std\": 0,\n        \"min\": 1,\n        \"max\": 4,\n        \"num_unique_values\": 4,\n        \"samples\": [\n          2,\n          4,\n          1\n        ],\n        \"semantic_type\": \"\",\n        \"description\": \"\"\n      }\n    },\n    {\n      \"column\": \"industria\",\n      \"properties\": {\n        \"dtype\": \"number\",\n        \"std\": 4,\n        \"min\": 1,\n        \"max\": 19,\n        \"num_unique_values\": 19,\n        \"samples\": [\n          13,\n          14,\n          15\n        ],\n        \"semantic_type\": \"\",\n        \"description\": \"\"\n      }\n    },\n    {\n      \"column\": \"sector\",\n      \"properties\": {\n        \"dtype\": \"number\",\n        \"std\": 9,\n        \"min\": 1,\n        \"max\": 42,\n        \"num_unique_values\": 42,\n        \"samples\": [\n          34,\n          32,\n          28\n        ],\n        \"semantic_type\": \"\",\n        \"description\": \"\"\n      }\n    },\n    {\n      \"column\": \"nucleo\",\n      \"properties\": {\n        \"dtype\": \"number\",\n        \"std\": 2,\n        \"min\": 1,\n        \"max\": 7,\n        \"num_unique_values\": 7,\n        \"samples\": [\n          1,\n          2,\n          4\n        ],\n        \"semantic_type\": \"\",\n        \"description\": \"\"\n      }\n    },\n    {\n      \"column\": \"em_fom_remoto\",\n      \"properties\": {\n        \"dtype\": \"number\",\n        \"std\": 1,\n        \"min\": 1,\n        \"max\": 5,\n        \"num_unique_values\": 5,\n        \"samples\": [\n          1,\n          4,\n          5\n        ],\n        \"semantic_type\": \"\",\n        \"description\": \"\"\n      }\n    },\n    {\n      \"column\": \"em_fom_camb_remoto\",\n      \"properties\": {\n        \"dtype\": \"number\",\n        \"std\": 1,\n        \"min\": 1,\n        \"max\": 5,\n        \"num_unique_values\": 5,\n        \"samples\": [\n          1,\n          5,\n          4\n        ],\n        \"semantic_type\": \"\",\n        \"description\": \"\"\n      }\n    },\n    {\n      \"column\": \"t_dez_remoto\",\n      \"properties\": {\n        \"dtype\": \"number\",\n        \"std\": 1.9395924129387907,\n        \"min\": 0.0,\n        \"max\": 24.0,\n        \"num_unique_values\": 25,\n        \"samples\": [\n          4.0,\n          0.2,\n          0.0\n        ],\n        \"semantic_type\": \"\",\n        \"description\": \"\"\n      }\n    },\n    {\n      \"column\": \"t_casa\",\n      \"properties\": {\n        \"dtype\": \"number\",\n        \"std\": 1.5975394924787891,\n        \"min\": 0.0,\n        \"max\": 17.0,\n        \"num_unique_values\": 24,\n        \"samples\": [\n          1.5,\n          10.0,\n          1.0\n        ],\n        \"semantic_type\": \"\",\n        \"description\": \"\"\n      }\n    },\n    {\n      \"column\": \"t_familia\",\n      \"properties\": {\n        \"dtype\": \"number\",\n        \"std\": 1.9266485797935662,\n        \"min\": 0.0,\n        \"max\": 24.0,\n        \"num_unique_values\": 39,\n        \"samples\": [\n          3.7,\n          24.0,\n          8.5\n        ],\n        \"semantic_type\": \"\",\n        \"description\": \"\"\n      }\n    },\n    {\n      \"column\": \"t_remoto_3meses\",\n      \"properties\": {\n        \"dtype\": \"number\",\n        \"std\": 0.36136533612343497,\n        \"min\": 0.0,\n        \"max\": 1.0,\n        \"num_unique_values\": 12,\n        \"samples\": [\n          0.2,\n          0.05,\n          0.5\n        ],\n        \"semantic_type\": \"\",\n        \"description\": \"\"\n      }\n    },\n    {\n      \"column\": \"t_pref_remoto_3meses\",\n      \"properties\": {\n        \"dtype\": \"number\",\n        \"std\": 0.3421391699421555,\n        \"min\": 0.0,\n        \"max\": 1.0,\n        \"num_unique_values\": 12,\n        \"samples\": [\n          0.6,\n          0.7,\n          0.8\n        ],\n        \"semantic_type\": \"\",\n        \"description\": \"\"\n      }\n    },\n    {\n      \"column\": \"h_trabajo_remoto\",\n      \"properties\": {\n        \"dtype\": \"number\",\n        \"std\": 2.1268182220533713,\n        \"min\": 0.0,\n        \"max\": 24.0,\n        \"num_unique_values\": 32,\n        \"samples\": [\n          14.0,\n          1.0,\n          2.5\n        ],\n        \"semantic_type\": \"\",\n        \"description\": \"\"\n      }\n    }\n  ]\n}"
            }
          },
          "metadata": {},
          "execution_count": 2
        }
      ]
    },
    {
      "cell_type": "markdown",
      "source": [
        "### Categorizacion"
      ],
      "metadata": {
        "id": "IW4qwXUxk6WM"
      }
    },
    {
      "cell_type": "code",
      "source": [
        "# Definir las categorías de productividad\n",
        "def categorize_productivity(hours):\n",
        "    if hours <= 4.5:\n",
        "        return 'Baja'\n",
        "    elif hours <= 7.5:\n",
        "        return 'Moderado'\n",
        "    else:\n",
        "        return 'Alta'\n",
        "\n",
        "# Aplicar la categorización a la variable objetivo\n",
        "df['productividad'] = df['h_trabajo_remoto'].apply(categorize_productivity)\n",
        "\n",
        "# Selección de variables predictoras (X) y la variable objetivo (y)\n",
        "X = df[['nacimiento', 'genero', 'industria' , 'sector' , 'nucleo' , 'em_fom_camb_remoto' , 't_dez_remoto' , 't_casa' , 't_familia' , 't_remoto_3meses' ]]\n",
        "y = df['productividad']\n",
        "\n",
        "# Codificar las etiquetas categóricas\n",
        "label_encoder = LabelEncoder()\n",
        "y_encoded = label_encoder.fit_transform(y)  # Fit on the original labels\n"
      ],
      "metadata": {
        "id": "72eC4xGFk1NZ"
      },
      "execution_count": 3,
      "outputs": []
    },
    {
      "cell_type": "markdown",
      "source": [
        "### Entrenamiento y evaluacion"
      ],
      "metadata": {
        "id": "xlawC1JqlASm"
      }
    },
    {
      "cell_type": "code",
      "source": [
        "\n",
        "# División en conjuntos de entrenamiento y prueba\n",
        "X_train, X_test, y_train_encoded, y_test_encoded = train_test_split(X, y_encoded, test_size=0.3, random_state=42)\n",
        "\n",
        "# Escalado de las variables\n",
        "scaler = StandardScaler()\n",
        "X_train = scaler.fit_transform(X_train)\n",
        "X_test = scaler.transform(X_test)\n",
        "\n",
        "# Entrenamiento del modelo\n",
        "#model = LogisticRegression()\n",
        "model = LogisticRegression(multi_class='ovr')  # 'ovr' para clasificación uno contra el resto, o 'multinomial'\n",
        "model.fit(X_train, y_train_encoded)  # Use encoded labels for training\n",
        "\n",
        "# Predicciones y evaluación\n",
        "y_pred_encoded = model.predict(X_test)  # Predictions are now encoded\n",
        "\n",
        "# Decodificar las predicciones\n",
        "y_pred_decoded = label_encoder.inverse_transform(y_pred_encoded)  # Inverse transform encoded predictions\n",
        "y_test_decoded = label_encoder.inverse_transform(y_test_encoded)  # Inverse transform encoded test labels\n"
      ],
      "metadata": {
        "id": "RGwqpPNukZTS"
      },
      "execution_count": 4,
      "outputs": []
    },
    {
      "cell_type": "markdown",
      "source": [
        "### matriz de confusion y reporte de clasificacion"
      ],
      "metadata": {
        "id": "j5zwGssdlJU0"
      }
    },
    {
      "cell_type": "code",
      "source": [
        "print(confusion_matrix(y_test_decoded, y_pred_decoded))\n",
        "print(classification_report(y_test_decoded, y_pred_decoded))"
      ],
      "metadata": {
        "colab": {
          "base_uri": "https://localhost:8080/"
        },
        "id": "0DUwjlbrlQ24",
        "outputId": "a69aa503-f448-4252-b31d-d7ad01460593"
      },
      "execution_count": 5,
      "outputs": [
        {
          "output_type": "stream",
          "name": "stdout",
          "text": [
            "[[616   1  21]\n",
            " [  3  21  26]\n",
            " [136   5  79]]\n",
            "              precision    recall  f1-score   support\n",
            "\n",
            "        Alta       0.82      0.97      0.88       638\n",
            "        Baja       0.78      0.42      0.55        50\n",
            "    Moderado       0.63      0.36      0.46       220\n",
            "\n",
            "    accuracy                           0.79       908\n",
            "   macro avg       0.74      0.58      0.63       908\n",
            "weighted avg       0.77      0.79      0.76       908\n",
            "\n"
          ]
        }
      ]
    },
    {
      "cell_type": "markdown",
      "source": [],
      "metadata": {
        "id": "nQ2fRZq5orSF"
      }
    },
    {
      "cell_type": "markdown",
      "source": [
        "## Pasos para importar, exportar y probar en la aplicacion web"
      ],
      "metadata": {
        "id": "onCe1SR3lgBw"
      }
    },
    {
      "cell_type": "code",
      "source": [
        "import joblib\n",
        "\n",
        "# Guardar el modelo\n",
        "joblib.dump(model, 'modelo_logistico.pkl')\n",
        "# Guardar el escalador\n",
        "joblib.dump(scaler, 'escalador.pkl')\n",
        "# Guardar el codificador de etiquetas\n",
        "joblib.dump(label_encoder, 'codificador_etiquetas.pkl')\n"
      ],
      "metadata": {
        "colab": {
          "base_uri": "https://localhost:8080/"
        },
        "id": "WaSEjMprlpc_",
        "outputId": "a2132c59-ec82-4496-b023-ee67328b3dc3"
      },
      "execution_count": 6,
      "outputs": [
        {
          "output_type": "execute_result",
          "data": {
            "text/plain": [
              "['codificador_etiquetas.pkl']"
            ]
          },
          "metadata": {},
          "execution_count": 6
        }
      ]
    },
    {
      "cell_type": "code",
      "source": [
        "# Cargar el modelo\n",
        "modelo_cargado = joblib.load('modelo_logistico.pkl')\n",
        "# Cargar el escalador\n",
        "escalador_cargado = joblib.load('escalador.pkl')\n",
        "# Cargar el codificador de etiquetas\n",
        "codificador_etiquetas_cargado = joblib.load('codificador_etiquetas.pkl')"
      ],
      "metadata": {
        "id": "griPvb5elpOX"
      },
      "execution_count": 7,
      "outputs": []
    },
    {
      "cell_type": "markdown",
      "source": [
        "### como meter datos"
      ],
      "metadata": {
        "id": "VyGeZNzsmTWC"
      }
    },
    {
      "cell_type": "code",
      "source": [
        ".def recoger_datos():\n",
        "    print(\"Por favor, ingresa los siguientes datos (todos son números):\")\n",
        "\n",
        "    nacimiento = int(input(\"Año de nacimiento: \"))\n",
        "    genero = int(input(\"Género 1 a 4: \"))\n",
        "    industria = int(input(\"Industria (1 a 19): \"))\n",
        "    sector = int(input(\"Sector (1 a 42): \"))\n",
        "    nucleo = int(input(\"Núcleo (1 a 7): \"))\n",
        "    em_fom_camb_remoto = int(input(\"Empleador fomenta cambios para apoyar el trabajo remoto (1 a 5): \"))\n",
        "    t_dez_remoto = int(input(\"Tiempo deseado al trabajo remoto (en horas max 24): \"))\n",
        "    t_casa = int(input(\"Tiempo dedicado a tareas del hogar (en horas): \"))\n",
        "    t_familia = int(input(\"Tiempo dedicado a la familia (en horas): \"))\n",
        "\n",
        "    # Handle potential comma as decimal separator\n",
        "    t_remoto_3meses_input = input(\"Tiempo de trabajo remoto en los últimos 3 meses (en % de 0 a 100): \")\n",
        "    t_remoto_3meses = int(float(t_remoto_3meses_input.replace(',', '.')))  # Replace comma with dot, then convert to float, then to int\n",
        "\n",
        "    nuevos_datos = [[nacimiento, genero, industria, sector, nucleo, em_fom_camb_remoto, t_dez_remoto, t_casa, t_familia, t_remoto_3meses]]\n",
        "\n",
        "    return nuevos_datos\n",
        "\n",
        "# Recoger los datos\n",
        "nuevos_datos = recoger_datos()\n",
        "print(\"Datos recogidos:\", nuevos_datos)"
      ],
      "metadata": {
        "id": "OjUkNfB6mSgW",
        "colab": {
          "base_uri": "https://localhost:8080/"
        },
        "outputId": "7a1536f5-6a64-4233-aeff-e9670b07f4a2"
      },
      "execution_count": 8,
      "outputs": [
        {
          "output_type": "stream",
          "name": "stdout",
          "text": [
            "Por favor, ingresa los siguientes datos (todos son números):\n",
            "Año de nacimiento: 2000\n",
            "Género 1 a 4: 2\n",
            "Industria (1 a 19): 8\n",
            "Sector (1 a 42): 39\n",
            "Núcleo (1 a 7): 7\n",
            "Empleador fomenta cambios para apoyar el trabajo remoto (1 a 5): 4\n",
            "Tiempo deseado al trabajo remoto (en horas max 24): 8\n",
            "Tiempo dedicado a tareas del hogar (en horas): 1\n",
            "Tiempo dedicado a la familia (en horas): 2\n",
            "Tiempo de trabajo remoto en los últimos 3 meses (en % de 0 a 100): 0.7\n",
            "Datos recogidos: [[2000, 2, 8, 39, 7, 4, 8, 1, 2, 0]]\n"
          ]
        }
      ]
    },
    {
      "cell_type": "markdown",
      "source": [
        "### como predecir con nuevos datos y salida esperada"
      ],
      "metadata": {
        "id": "l0qrCru_mcT7"
      }
    },
    {
      "cell_type": "code",
      "source": [
        "# Nuevos datos (ejemplo)\n",
        "\n",
        "# Escalar los nuevos datos\n",
        "nuevos_datos_escalados = escalador_cargado.transform(nuevos_datos)\n",
        "\n",
        "# Hacer predicciones\n",
        "predicciones_codificadas = modelo_cargado.predict(nuevos_datos_escalados)\n",
        "\n",
        "# Decodificar las predicciones\n",
        "predicciones_decodificadas = codificador_etiquetas_cargado.inverse_transform(predicciones_codificadas)\n",
        "\n",
        "print(predicciones_decodificadas)"
      ],
      "metadata": {
        "id": "BCEBwN3AmYn1",
        "colab": {
          "base_uri": "https://localhost:8080/"
        },
        "outputId": "d5d61a86-de18-46a9-9564-bebf2fec4360"
      },
      "execution_count": 9,
      "outputs": [
        {
          "output_type": "stream",
          "name": "stdout",
          "text": [
            "['Alta']\n"
          ]
        },
        {
          "output_type": "stream",
          "name": "stderr",
          "text": [
            "/usr/local/lib/python3.10/dist-packages/sklearn/base.py:465: UserWarning: X does not have valid feature names, but StandardScaler was fitted with feature names\n",
            "  warnings.warn(\n"
          ]
        }
      ]
    }
  ]
}